{
 "cells": [
  {
   "cell_type": "code",
   "execution_count": 1,
   "id": "79088ab5-b169-4164-bb3b-409bac536d33",
   "metadata": {},
   "outputs": [
    {
     "name": "stdout",
     "output_type": "stream",
     "text": [
      "41.52292049072034 -84.30645468470402\n"
     ]
    }
   ],
   "source": [
    "# search1 py\n",
    "from geopy.geocoders import Nominatim\n",
    "if __name__ == '__main__':\n",
    "    address = '207 N. Defiance St, Archbold, OH'\n",
    "    user_agent = 'David'\n",
    "    location = Nominatim(user_agent=user_agent).geocode(address)\n",
    "    print(location.latitude, location.longitude)\n",
    "    \n",
    "# 라이브러리 이용"
   ]
  },
  {
   "cell_type": "code",
   "execution_count": 3,
   "id": "b9a2c6d7-f572-4f2c-ace8-c67df62ccffd",
   "metadata": {},
   "outputs": [
    {
     "name": "stdout",
     "output_type": "stream",
     "text": [
      "41.52292049072034 -84.30645468470402\n"
     ]
    }
   ],
   "source": [
    "# search2\n",
    "import requests\n",
    "\n",
    "def geocode(address):\n",
    "    base = 'https://nominatim.openstreetmap.org/search'\n",
    "    parameters = {'q': address, 'format': 'json'}\n",
    "    user_agent = 'Foundations of Python Network Programming example search2.py'\n",
    "    headers = {'User-Agent': user_agent}\n",
    "    \n",
    "    response = requests.get(base, params=parameters, headers=headers)\n",
    "    reply = response.json()\n",
    "    print(reply[0]['lat'], reply[0]['lon'])\n",
    "    \n",
    "if __name__ == '__main__':\n",
    "    geocode('207 N. Defiance St, Archbold, OH')\n",
    "    \n",
    "# requests를 이용한 GET 요청"
   ]
  },
  {
   "cell_type": "code",
   "execution_count": 10,
   "id": "abf8a35f-ba18-4e36-b6fb-1f298ce7943c",
   "metadata": {},
   "outputs": [
    {
     "name": "stdout",
     "output_type": "stream",
     "text": [
      "41.52292049072034 -84.30645468470402\n"
     ]
    }
   ],
   "source": [
    "# search 3\n",
    "import http.client\n",
    "import json\n",
    "from urllib.parse import quote_plus\n",
    "\n",
    "base = '/search'\n",
    "\n",
    "def gecode(address):\n",
    "    path = '{}?q={}&format=json'.format(base, quote_plus(address))\n",
    "    user_agent = b'Foundations of Python Network Programming example search3.py'\n",
    "    headers = {b'User-Agent': user_agent}\n",
    "    \n",
    "    connection = http.client.HTTPSConnection('nominatim.openstreetmap.org')\n",
    "    connection.request('GET', path, None, headers)\n",
    "    print(path)\n",
    "    rawreply = connection.getresponse().read()\n",
    "    reply = json.loads(rawreply.decode('utf-8'))\n",
    "    print(reply[0]['lat'], reply[0]['lon'])\n",
    "    \n",
    "if __name__ == '__main__':\n",
    "    geocode('207 N. Defiance St, Archbold, OH')\n",
    "    \n",
    "# client 모듈의 HTTPSConnection으로 통신"
   ]
  },
  {
   "cell_type": "code",
   "execution_count": null,
   "id": "01d74817-a785-4945-afda-abc61e9a936e",
   "metadata": {},
   "outputs": [],
   "source": [
    "# search 4\n",
    "import socket\n",
    "import ssl\n",
    "from urllib.parse import quote_plus\n",
    "\n",
    "request_text = \"\"\"\\\n",
    "GET /search?q={}&format=json HTTP/1.1\\r\\n\\\n",
    "Host: nominatim.openstreetmap.org\\r\\n\\\n",
    "User-Agent: Foundations of Python Network Programming example search4.py\\r\\n\\\n",
    "Connection: close\\r\\n\\\n",
    "\\r\\n\\\n",
    "\"\"\"\n",
    "\n",
    "def geocode(address):\n",
    "    unencrypted_sock = socket.socket()\n",
    "    unencrypted_sock.connect(('nominatim.openstreetmap.org', 443))\n",
    "    sock = ssl.wrap_socket(unencrypted_sock)\n",
    "    \n",
    "    request = request_text.format(quote_plus(address))\n",
    "    sock.sendall(request.encode('ascii'))\n",
    "    raw_reply = b''\n",
    "    while True:\n",
    "        more = sock.recv(4096)\n",
    "        if not more:\n",
    "            break\n",
    "        raw_reply += more\n",
    "    print(raw_reply.decode('utf-8'))\n",
    "    print(raw_reply)\n",
    "    \n",
    "if __name__ == '__main__':\n",
    "    geocode('207 N. Defiance St, Archbold, OH')\n",
    "    \n",
    "# bare socket 이용한 통신"
   ]
  }
 ],
 "metadata": {
  "kernelspec": {
   "display_name": "Python 3 (ipykernel)",
   "language": "python",
   "name": "python3"
  },
  "language_info": {
   "codemirror_mode": {
    "name": "ipython",
    "version": 3
   },
   "file_extension": ".py",
   "mimetype": "text/x-python",
   "name": "python",
   "nbconvert_exporter": "python",
   "pygments_lexer": "ipython3",
   "version": "3.9.7"
  }
 },
 "nbformat": 4,
 "nbformat_minor": 5
}
